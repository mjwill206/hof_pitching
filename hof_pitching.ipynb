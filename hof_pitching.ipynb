{
 "cells": [
  {
   "cell_type": "markdown",
   "metadata": {},
   "source": [
    "## Imports:"
   ]
  },
  {
   "cell_type": "code",
   "execution_count": 14,
   "metadata": {},
   "outputs": [],
   "source": [
    "import pandas as pd\n",
    "import matplotlib.pyplot as plt\n",
    "plt.style.use(\"ggplot\")"
   ]
  },
  {
   "cell_type": "markdown",
   "metadata": {},
   "source": [
    "## Data:"
   ]
  },
  {
   "cell_type": "code",
   "execution_count": 15,
   "metadata": {},
   "outputs": [],
   "source": [
    "df = pd.read_csv(\"/data/hofpitching.csv\").rename(columns = {\"Unnamed: 1\" : \"name\"})\n",
    "df[\"name\"] = df[\"name\"].map(lambda x: x.rstrip(\" HOF\"))\n"
   ]
  },
  {
   "cell_type": "code",
   "execution_count": 16,
   "metadata": {},
   "outputs": [
    {
     "data": {
      "text/html": [
       "<div>\n",
       "<style scoped>\n",
       "    .dataframe tbody tr th:only-of-type {\n",
       "        vertical-align: middle;\n",
       "    }\n",
       "\n",
       "    .dataframe tbody tr th {\n",
       "        vertical-align: top;\n",
       "    }\n",
       "\n",
       "    .dataframe thead th {\n",
       "        text-align: right;\n",
       "    }\n",
       "</style>\n",
       "<table border=\"1\" class=\"dataframe\">\n",
       "  <thead>\n",
       "    <tr style=\"text-align: right;\">\n",
       "      <th></th>\n",
       "      <th>Rk</th>\n",
       "      <th>name</th>\n",
       "      <th>Inducted</th>\n",
       "      <th>Yrs</th>\n",
       "      <th>From</th>\n",
       "      <th>To</th>\n",
       "      <th>ASG</th>\n",
       "      <th>WAR</th>\n",
       "      <th>W</th>\n",
       "      <th>L</th>\n",
       "      <th>...</th>\n",
       "      <th>R</th>\n",
       "      <th>ER</th>\n",
       "      <th>HR</th>\n",
       "      <th>BB</th>\n",
       "      <th>IBB</th>\n",
       "      <th>SO</th>\n",
       "      <th>HBP</th>\n",
       "      <th>BK</th>\n",
       "      <th>WP</th>\n",
       "      <th>BF</th>\n",
       "    </tr>\n",
       "  </thead>\n",
       "  <tbody>\n",
       "    <tr>\n",
       "      <th>0</th>\n",
       "      <td>1.0</td>\n",
       "      <td>Pete Alexander</td>\n",
       "      <td>1938.0</td>\n",
       "      <td>20</td>\n",
       "      <td>1911</td>\n",
       "      <td>1930</td>\n",
       "      <td>0</td>\n",
       "      <td>112.8</td>\n",
       "      <td>373</td>\n",
       "      <td>208</td>\n",
       "      <td>...</td>\n",
       "      <td>1852</td>\n",
       "      <td>1476</td>\n",
       "      <td>165</td>\n",
       "      <td>951</td>\n",
       "      <td>NaN</td>\n",
       "      <td>2198</td>\n",
       "      <td>70.0</td>\n",
       "      <td>1</td>\n",
       "      <td>38</td>\n",
       "      <td>20893</td>\n",
       "    </tr>\n",
       "    <tr>\n",
       "      <th>1</th>\n",
       "      <td>2.0</td>\n",
       "      <td>Chief Bender</td>\n",
       "      <td>1953.0</td>\n",
       "      <td>16</td>\n",
       "      <td>1903</td>\n",
       "      <td>1925</td>\n",
       "      <td>0</td>\n",
       "      <td>40.8</td>\n",
       "      <td>212</td>\n",
       "      <td>127</td>\n",
       "      <td>...</td>\n",
       "      <td>1108</td>\n",
       "      <td>823</td>\n",
       "      <td>40</td>\n",
       "      <td>712</td>\n",
       "      <td>NaN</td>\n",
       "      <td>1711</td>\n",
       "      <td>102.0</td>\n",
       "      <td>10</td>\n",
       "      <td>79</td>\n",
       "      <td>11895</td>\n",
       "    </tr>\n",
       "    <tr>\n",
       "      <th>2</th>\n",
       "      <td>3.0</td>\n",
       "      <td>Bert Blyleven</td>\n",
       "      <td>2011.0</td>\n",
       "      <td>22</td>\n",
       "      <td>1970</td>\n",
       "      <td>1992</td>\n",
       "      <td>2</td>\n",
       "      <td>90.7</td>\n",
       "      <td>287</td>\n",
       "      <td>250</td>\n",
       "      <td>...</td>\n",
       "      <td>2029</td>\n",
       "      <td>1830</td>\n",
       "      <td>430</td>\n",
       "      <td>1322</td>\n",
       "      <td>71.0</td>\n",
       "      <td>3701</td>\n",
       "      <td>155.0</td>\n",
       "      <td>19</td>\n",
       "      <td>114</td>\n",
       "      <td>20491</td>\n",
       "    </tr>\n",
       "    <tr>\n",
       "      <th>3</th>\n",
       "      <td>4.0</td>\n",
       "      <td>Mordecai Brown</td>\n",
       "      <td>1949.0</td>\n",
       "      <td>14</td>\n",
       "      <td>1903</td>\n",
       "      <td>1916</td>\n",
       "      <td>0</td>\n",
       "      <td>51.7</td>\n",
       "      <td>239</td>\n",
       "      <td>130</td>\n",
       "      <td>...</td>\n",
       "      <td>1044</td>\n",
       "      <td>725</td>\n",
       "      <td>43</td>\n",
       "      <td>673</td>\n",
       "      <td>NaN</td>\n",
       "      <td>1375</td>\n",
       "      <td>61.0</td>\n",
       "      <td>4</td>\n",
       "      <td>61</td>\n",
       "      <td>12422</td>\n",
       "    </tr>\n",
       "    <tr>\n",
       "      <th>4</th>\n",
       "      <td>5.0</td>\n",
       "      <td>Jim Bunning</td>\n",
       "      <td>1996.0</td>\n",
       "      <td>17</td>\n",
       "      <td>1955</td>\n",
       "      <td>1971</td>\n",
       "      <td>9</td>\n",
       "      <td>56.7</td>\n",
       "      <td>224</td>\n",
       "      <td>184</td>\n",
       "      <td>...</td>\n",
       "      <td>1527</td>\n",
       "      <td>1366</td>\n",
       "      <td>372</td>\n",
       "      <td>1000</td>\n",
       "      <td>98.0</td>\n",
       "      <td>2855</td>\n",
       "      <td>160.0</td>\n",
       "      <td>8</td>\n",
       "      <td>47</td>\n",
       "      <td>15618</td>\n",
       "    </tr>\n",
       "  </tbody>\n",
       "</table>\n",
       "<p>5 rows × 30 columns</p>\n",
       "</div>"
      ],
      "text/plain": [
       "    Rk            name  Inducted  Yrs  From    To  ASG    WAR    W    L  ...  \\\n",
       "0  1.0  Pete Alexander    1938.0   20  1911  1930    0  112.8  373  208  ...   \n",
       "1  2.0    Chief Bender    1953.0   16  1903  1925    0   40.8  212  127  ...   \n",
       "2  3.0   Bert Blyleven    2011.0   22  1970  1992    2   90.7  287  250  ...   \n",
       "3  4.0  Mordecai Brown    1949.0   14  1903  1916    0   51.7  239  130  ...   \n",
       "4  5.0     Jim Bunning    1996.0   17  1955  1971    9   56.7  224  184  ...   \n",
       "\n",
       "      R    ER   HR    BB   IBB    SO    HBP  BK   WP     BF  \n",
       "0  1852  1476  165   951   NaN  2198   70.0   1   38  20893  \n",
       "1  1108   823   40   712   NaN  1711  102.0  10   79  11895  \n",
       "2  2029  1830  430  1322  71.0  3701  155.0  19  114  20491  \n",
       "3  1044   725   43   673   NaN  1375   61.0   4   61  12422  \n",
       "4  1527  1366  372  1000  98.0  2855  160.0   8   47  15618  \n",
       "\n",
       "[5 rows x 30 columns]"
      ]
     },
     "execution_count": 16,
     "metadata": {},
     "output_type": "execute_result"
    }
   ],
   "source": [
    "df.head()"
   ]
  },
  {
   "cell_type": "code",
   "execution_count": 17,
   "metadata": {},
   "outputs": [
    {
     "name": "stdout",
     "output_type": "stream",
     "text": [
      "<class 'pandas.core.frame.DataFrame'>\n",
      "RangeIndex: 70 entries, 0 to 69\n",
      "Data columns (total 30 columns):\n",
      " #   Column    Non-Null Count  Dtype  \n",
      "---  ------    --------------  -----  \n",
      " 0   Rk        69 non-null     float64\n",
      " 1   name      70 non-null     object \n",
      " 2   Inducted  69 non-null     float64\n",
      " 3   Yrs       70 non-null     int64  \n",
      " 4   From      70 non-null     int64  \n",
      " 5   To        70 non-null     int64  \n",
      " 6   ASG       70 non-null     int64  \n",
      " 7   WAR       70 non-null     float64\n",
      " 8   W         70 non-null     int64  \n",
      " 9   L         70 non-null     int64  \n",
      " 10  W-L%      70 non-null     float64\n",
      " 11  ERA       70 non-null     float64\n",
      " 12  G         70 non-null     int64  \n",
      " 13  GS        70 non-null     int64  \n",
      " 14  GF        70 non-null     int64  \n",
      " 15  CG        70 non-null     int64  \n",
      " 16  SHO       70 non-null     int64  \n",
      " 17  SV        70 non-null     int64  \n",
      " 18  IP        70 non-null     float64\n",
      " 19  H         70 non-null     int64  \n",
      " 20  R         70 non-null     int64  \n",
      " 21  ER        70 non-null     int64  \n",
      " 22  HR        70 non-null     int64  \n",
      " 23  BB        70 non-null     int64  \n",
      " 24  IBB       29 non-null     float64\n",
      " 25  SO        70 non-null     int64  \n",
      " 26  HBP       67 non-null     float64\n",
      " 27  BK        70 non-null     int64  \n",
      " 28  WP        70 non-null     int64  \n",
      " 29  BF        70 non-null     int64  \n",
      "dtypes: float64(8), int64(21), object(1)\n",
      "memory usage: 16.5+ KB\n"
     ]
    }
   ],
   "source": [
    "df.info()"
   ]
  },
  {
   "cell_type": "markdown",
   "metadata": {},
   "source": [
    "## EDA:"
   ]
  },
  {
   "cell_type": "code",
   "execution_count": 37,
   "metadata": {},
   "outputs": [
    {
     "data": {
      "text/plain": [
       "Less than 10,000    11\n",
       "More than 20,000    14\n",
       "15,000 - 20,000     23\n",
       "10,000 - 15,000     22\n",
       "Name: BF_group, dtype: int64"
      ]
     },
     "execution_count": 37,
     "metadata": {},
     "output_type": "execute_result"
    }
   ],
   "source": [
    "def bf_map(x):\n",
    "    if x > 20_000:\n",
    "        return \"More than 20,000\"\n",
    "    elif x >= 15_000:\n",
    "        return \"15,000 - 20,000\"\n",
    "    elif x >= 10_000:\n",
    "        return \"10,000 - 15,000\"\n",
    "    else:\n",
    "        return \"Less than 10,000\"\n",
    "    \n",
    "df[\"BF_group\"] = df[\"BF\"].map(bf_map)\n",
    "\n",
    "df[\"BF_group\"].value_counts(sort = False)"
   ]
  },
  {
   "cell_type": "code",
   "execution_count": 38,
   "metadata": {},
   "outputs": [
    {
     "data": {
      "text/plain": [
       "Less than 10,000    0.157143\n",
       "More than 20,000    0.200000\n",
       "15,000 - 20,000     0.328571\n",
       "10,000 - 15,000     0.314286\n",
       "Name: BF_group, dtype: float64"
      ]
     },
     "execution_count": 38,
     "metadata": {},
     "output_type": "execute_result"
    }
   ],
   "source": [
    "df[\"BF_group\"].value_counts(normalize = True, sort = False)"
   ]
  },
  {
   "cell_type": "code",
   "execution_count": 113,
   "metadata": {},
   "outputs": [
    {
     "data": {
      "text/plain": [
       "Text(0, 0.5, 'Frequency')"
      ]
     },
     "execution_count": 113,
     "metadata": {},
     "output_type": "execute_result"
    },
    {
     "data": {
      "image/png": "[encoded data removed]",
      "text/plain": [
       "<Figure size 864x576 with 1 Axes>"
      ]
     },
     "metadata": {},
     "output_type": "display_data"
    }
   ],
   "source": [
    "plt.figure(figsize = (12,8))\n",
    "\n",
    "x = [\"Less than 10,000\", \"10,000 - 15,000\", \"15,000 - 20,000\", \"More than 20,000\"]\n",
    "height = [11, 22, 23, 14]\n",
    "\n",
    "plt.bar(x, height, color = \"b\")\n",
    "\n",
    "# plt.title()\n",
    "plt.xlabel(\"BF Group\")\n",
    "plt.ylabel(\"Frequency\")"
   ]
  },
  {
   "cell_type": "code",
   "execution_count": null,
   "metadata": {},
   "outputs": [],
   "source": []
  }
 ],
 "metadata": {
  "kernelspec": {
   "display_name": "Python 3",
   "language": "python",
   "name": "python3"
  },
  "language_info": {
   "codemirror_mode": {
    "name": "ipython",
    "version": 3
   },
   "file_extension": ".py",
   "mimetype": "text/x-python",
   "name": "python",
   "nbconvert_exporter": "python",
   "pygments_lexer": "ipython3",
   "version": "3.7.6"
  }
 },
 "nbformat": 4,
 "nbformat_minor": 4
}
